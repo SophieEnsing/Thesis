{
 "cells": [
  {
   "cell_type": "markdown",
   "metadata": {},
   "source": [
    "## Agent-based modeling and simulation of transport flows in Amsterdam\n",
    "### This notebook handles the preprocessing of GVB data to deduce a population that can be used in an agent-based simulation of public transport in Amsterdam."
   ]
  },
  {
   "cell_type": "markdown",
   "metadata": {},
   "source": [
    "#### Load all packages"
   ]
  },
  {
   "cell_type": "code",
   "execution_count": 26,
   "metadata": {},
   "outputs": [],
   "source": [
    "import networkx as nx\n",
    "import warnings\n",
    "import datetime\n",
    "import seaborn as sn\n",
    "sn.set()\n",
    "import pandas as pd\n",
    "import numpy as np\n",
    "import matplotlib.pyplot as plt\n",
    "%matplotlib inline\n",
    "warnings.filterwarnings('ignore')"
   ]
  },
  {
   "cell_type": "markdown",
   "metadata": {},
   "source": [
    "#### Load data for origin and destination per hour"
   ]
  },
  {
   "cell_type": "code",
   "execution_count": 27,
   "metadata": {},
   "outputs": [],
   "source": [
    "origin = pd.read_csv('../../Data/20190403/Datalab_Reis_Herkomst_Uur_20190403.csv', sep=';')\n",
    "origin = origin.dropna()\n",
    "destination = pd.read_csv('../../Data/20190403/Datalab_Reis_Bestemming_Uur_20190402.csv', sep=';')\n",
    "destination = destination.dropna()"
   ]
  },
  {
   "cell_type": "code",
   "execution_count": 28,
   "metadata": {},
   "outputs": [],
   "source": [
    "# List of all stations in the sub-network\n",
    "stations = ['Amsteldijk','Amstelstation','Amstelveenseweg','Beethovenstraat','Bullewijk','Burg.de Vlugtlaan', \n",
    "    'Centraal Station','Cornelis Troostplein','Dam','De Boelelaan/VU','De Pijp','Europaplein',\n",
    "    'Gaasperplas','Gein','Gerrit v.d. Veenstraat','Heemstedestraat','Henk Sneevlietweg','IJsbaanpad', \n",
    "    'Isolatorweg','Jan v.Galenstraat','Keizersgracht','Koningsplein','Kraaienneststation','Leidseplein',\n",
    "    'Maasstraat','Marie Heinekenplein','Minervaplein','Muntplein','Museumplein','Nieuwezijds Kolk',\n",
    "    'Nieuwmarkt','Noord','Noorderpark','Olympiaplein','Olympiaweg','Olympisch stadion','Overamstel', \n",
    "    'Postjesweg','Prinsengracht','Reigersbos','Rijksmuseum','Roelof Hartplein','Rokin','Scheldestraat',\n",
    "    'Spaklerweg','Spui','Station Bijlmer ArenA','Station Diemen-Zuid','Station Duivendrecht', 'Stadionweg'\n",
    "    'Station Ganzenhoef','Station Holendrecht','Station Lelylaan','Station RAI','Station Sloterdijk', \n",
    "    'Strandvliet','Van Baerlestraat','Van der Madeweg','Venserpolder','Verrijn Stuartweg','Victorieplein', \n",
    "    'Vijzelgracht','VU medisch centrum','Waalstraat','Waterlooplein','Weesperplein','Wibautstraat','Station Zuid']"
   ]
  },
  {
   "cell_type": "markdown",
   "metadata": {},
   "source": [
    "#### Change dates to datetime objects and add weekday column"
   ]
  },
  {
   "cell_type": "code",
   "execution_count": 29,
   "metadata": {
    "scrolled": true
   },
   "outputs": [],
   "source": [
    "origin['Datum'] = origin['Datum'].apply(lambda x: datetime.datetime.strptime(x[:-3], '%m/%d/%Y %H:%M:%S'))\n",
    "origin['Weekdag'] = origin['Datum'].apply(lambda x: x.isoweekday())\n",
    "\n",
    "destination['Datum'] = destination['Datum'].apply(lambda x: datetime.datetime.strptime(x[:-3], '%m/%d/%Y %H:%M:%S'))\n",
    "destination['Weekdag'] = destination['Datum'].apply(lambda x: x.isoweekday())"
   ]
  },
  {
   "cell_type": "markdown",
   "metadata": {},
   "source": [
    "#### Remove data where the Noord/Zuid line did not run yet\n",
    "The Noord/Zuid line was opened on the 21st of July, so all data before August is not used."
   ]
  },
  {
   "cell_type": "code",
   "execution_count": 30,
   "metadata": {},
   "outputs": [],
   "source": [
    "origin = origin[origin['Datum'] >= datetime.datetime(2018, 8, 1)]\n",
    "destination = destination[destination['Datum'] >= datetime.datetime(2018, 8, 1)]"
   ]
  },
  {
   "cell_type": "markdown",
   "metadata": {},
   "source": [
    "#### Apply necessary filters for analysis\n",
    "The first analysis is only applied on one type of day (1 = Mondays) and for the stations that are included in the sub-network."
   ]
  },
  {
   "cell_type": "code",
   "execution_count": 31,
   "metadata": {
    "scrolled": true
   },
   "outputs": [],
   "source": [
    "origin = origin[(origin['VertrekHalteNaam'].isin(stations)) & (origin['Weekdag'] == 1)]\n",
    "destination = destination[(destination['AankomstHalteNaam'].isin(stations)) & (destination['Weekdag'] == 1)]"
   ]
  },
  {
   "cell_type": "markdown",
   "metadata": {},
   "source": [
    "#### Remove 'HalteCodes' that are not used in the sub-network"
   ]
  },
  {
   "cell_type": "code",
   "execution_count": 35,
   "metadata": {},
   "outputs": [],
   "source": [
    "stopdict = {'ITW': 1, 'GN': 1, 'RAI': 1, 'VSW': 1, 'ND': 1, 'RKN': 1, \n",
    "            'WPP': 1, 'RGB': 1, 'HVW': 1, 'OAS': 1, 'CLL': 1, 'PJW': 1, \n",
    "            'BLW': 1, 'WBS': 1, 'HLD': 1, 'MDW': 1, 'SVT': 1, 'DMZ': 1, \n",
    "            'BMR': 1, 'EPP': 1, 'WTC': 1, 'DPP': 1, 'JLS': 1, 'DVD': 1, \n",
    "            'GZH': 1, 'NDP': 1, 'NMT': 1, 'VLN': 1, 'ASA': 1, 'KEN': 1, \n",
    "            'VPD': 1, 'SLW': 1, 'WLP': 1, 'HDS': 1, 'GPP': 1, 'VZG': 1, \n",
    "            'CS': 1, 'VU': 1, 'ASW': 1, 'STD': 1, '08070': 1, '09122': 1, \n",
    "            '09121': 1, '07094': 1, '07091': 1, '08071': 1, '09013': 1, \n",
    "            '07004': 1, '08076': 1, '08078': 1, '07307': 1, '07308': 1, \n",
    "            '07120': 2, '07108': 2, '09083': 2, '09082': 2, '07202': 2, \n",
    "            '07121': 2, '09078': 2, '09079': 2, '07084': 2, '07083': 2, \n",
    "            '07207': 2, '07205': 2, '07017': 2, '07303': 2, '07350': 2, \n",
    "            '09074': 2, '09075': 2, '07098': 2, '07097': 2, '07493': 2, \n",
    "            '07490': 2, '09119': 2, '09120': 2, '05036': 3, '05035': 3, \n",
    "            '06072': 3, '06071': 3, '06075': 3, '06076': 3, '06073': 3, \n",
    "            '06074': 3, '07015': 3, '09049': 3, '09051': 3, '05062': 3, \n",
    "            '05061': 3, '07006': 3, '07007': 3, '07322': 3, '07321': 3, \n",
    "            '07323': 3, '07324': 3, '06067': 3, '05063': 3, '05032': 3, \n",
    "            '05031': 3, '07016': 0.6666666666666666, '09114': 0.6666666666666666, \n",
    "            '09111': 0.6666666666666666, '09139': 4, '09140': 4, '05022': 4, \n",
    "            '05011': 5, '06089': 5, '05065': 5, '05070': 5, '05069': 5}"
   ]
  },
  {
   "cell_type": "code",
   "execution_count": 36,
   "metadata": {},
   "outputs": [],
   "source": [
    "origin = origin[origin['VertrekHalteCode'].isin(stopdict.keys())]\n",
    "destination = destination[destination['AankomstHalteCode'].isin(stopdict.keys())]"
   ]
  },
  {
   "cell_type": "code",
   "execution_count": 37,
   "metadata": {},
   "outputs": [],
   "source": [
    "origin['AantalLijnen'] = origin['VertrekHalteCode'].map(stopdict)\n",
    "destination['AantalLijnen'] = destination['AankomstHalteCode'].map(stopdict)"
   ]
  },
  {
   "cell_type": "code",
   "execution_count": 38,
   "metadata": {},
   "outputs": [],
   "source": [
    "origin['AantalReizenNorm'] = origin['AantalReizen']/origin['AantalLijnen']\n",
    "destination['AantalReizenNorm'] = destination['AantalReizen']/destination['AantalLijnen']"
   ]
  },
  {
   "cell_type": "markdown",
   "metadata": {},
   "source": [
    "#### Group by hour for further analysis"
   ]
  },
  {
   "cell_type": "code",
   "execution_count": 42,
   "metadata": {
    "scrolled": true
   },
   "outputs": [],
   "source": [
    "origingrouped = origin[['UurgroepOmschrijving (van vertrek)','VertrekHalteNaam', 'AantalReizenNorm']]\n",
    "origingrouped = origingrouped.groupby(['UurgroepOmschrijving (van vertrek)', \n",
    "                                'VertrekHalteNaam']).aggregate(['min', np.median, np.sum, max])\n",
    "\n",
    "# Mean is divided by 34 here, because of 34 days\n",
    "origingrouped['AantalReizenNorm','mean'] = origingrouped['AantalReizenNorm']['sum'].apply(lambda x: float(x/34))\n",
    "origingrouped = origingrouped.reset_index()\n",
    "origingrouped.columns = ['hour', 'stop', 'min', 'median', 'sum', 'max', 'mean']"
   ]
  },
  {
   "cell_type": "code",
   "execution_count": 43,
   "metadata": {},
   "outputs": [],
   "source": [
    "destinationgrouped = destination[['UurgroepOmschrijving (van aankomst)','AankomstHalteNaam', 'AantalReizenNorm']]\n",
    "destinationgrouped = destinationgrouped.groupby(['UurgroepOmschrijving (van aankomst)', \n",
    "                                'AankomstHalteNaam']).aggregate(['min', np.median, np.sum, 'max'])\n",
    "\n",
    "# Mean is divided by 34 here, because of 34 days\n",
    "destinationgrouped['AantalReizenNorm','mean'] = destinationgrouped['AantalReizenNorm']['sum'].apply(lambda x: float(x/34))\n",
    "destinationgrouped = destinationgrouped.reset_index()\n",
    "destinationgrouped.columns = ['hour', 'stop', 'min', 'median', 'sum', 'max', 'mean']"
   ]
  },
  {
   "cell_type": "markdown",
   "metadata": {},
   "source": [
    "#### Create plot of distribution for a certain hour"
   ]
  },
  {
   "cell_type": "code",
   "execution_count": 56,
   "metadata": {},
   "outputs": [],
   "source": [
    "def plotgroup(hour, dataframe):\n",
    "    dataframe = dataframe[dataframe['hour'] == hour]\n",
    "    total = dataframe['mean'].sum()\n",
    "    dataframe['percentage'] = dataframe['mean'].apply(lambda x: (x / total) * 100)\n",
    "    dataframe = (dataframe.sort_values(by = 'percentage', ascending = False)).head(10)\n",
    "    return dataframe.plot(kind = 'barh', x = 'stop', y = 'percentage', figsize = [10,5])"
   ]
  },
  {
   "cell_type": "code",
   "execution_count": 57,
   "metadata": {},
   "outputs": [
    {
     "data": {
      "text/plain": [
       "<matplotlib.axes._subplots.AxesSubplot at 0x1a12f8fb00>"
      ]
     },
     "execution_count": 57,
     "metadata": {},
     "output_type": "execute_result"
    },
    {
     "data": {
      "image/png": "[encoded data removed]",
      "text/plain": [
       "<Figure size 720x360 with 1 Axes>"
      ]
     },
     "metadata": {},
     "output_type": "display_data"
    }
   ],
   "source": [
    "plotgroup('15:00 - 15:59', origingrouped)"
   ]
  },
  {
   "cell_type": "markdown",
   "metadata": {},
   "source": [
    "#### Save distribution for simulation"
   ]
  },
  {
   "cell_type": "code",
   "execution_count": 58,
   "metadata": {
    "scrolled": true
   },
   "outputs": [],
   "source": [
    "origingrouped.to_csv('../Data/origin.csv', index=False)\n",
    "destinationgrouped.to_csv('../Data/destination.csv', index=False)"
   ]
  },
  {
   "cell_type": "code",
   "execution_count": null,
   "metadata": {},
   "outputs": [],
   "source": []
  }
 ],
 "metadata": {
  "kernelspec": {
   "display_name": "Python 3",
   "language": "python",
   "name": "python3"
  },
  "language_info": {
   "codemirror_mode": {
    "name": "ipython",
    "version": 3
   },
   "file_extension": ".py",
   "mimetype": "text/x-python",
   "name": "python",
   "nbconvert_exporter": "python",
   "pygments_lexer": "ipython3",
   "version": "3.6.7"
  }
 },
 "nbformat": 4,
 "nbformat_minor": 2
}
