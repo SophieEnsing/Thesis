{
 "cells": [
  {
   "cell_type": "markdown",
   "metadata": {},
   "source": [
    "## Agent-based modeling and simulation of transport flows in Amsterdam\n",
    "### This notebook handles the preprocessing of GVB data to deduce a population that can be used in an agent-based simulation of public transport in Amsterdam."
   ]
  },
  {
   "cell_type": "markdown",
   "metadata": {},
   "source": [
    "#### Load all packages"
   ]
  },
  {
   "cell_type": "code",
   "execution_count": 10,
   "metadata": {},
   "outputs": [],
   "source": [
    "import networkx as nx\n",
    "import warnings\n",
    "import datetime\n",
    "import seaborn as sn\n",
    "sn.set()\n",
    "import pandas as pd\n",
    "import numpy as np\n",
    "import matplotlib.pyplot as plt\n",
    "%matplotlib inline\n",
    "warnings.filterwarnings('ignore')"
   ]
  },
  {
   "cell_type": "markdown",
   "metadata": {},
   "source": [
    "#### Load data for origin and destination per hour"
   ]
  },
  {
   "cell_type": "code",
   "execution_count": 16,
   "metadata": {},
   "outputs": [],
   "source": [
    "origin = pd.read_csv('../../Data/20190403/Datalab_Reis_Herkomst_Uur_20190403.csv', sep=';')\n",
    "origin = origin.dropna()\n",
    "destination = pd.read_csv('../../Data/20190403/Datalab_Reis_Bestemming_Uur_20190402.csv', sep=';')\n",
    "destination = destination.dropna()"
   ]
  },
  {
   "cell_type": "code",
   "execution_count": 13,
   "metadata": {},
   "outputs": [],
   "source": [
    "# List of all stations in the sub-network\n",
    "stations = ['Amsteldijk','Amstelstation','Amstelveenseweg','Beethovenstraat','Bullewijk','Burg.de Vlugtlaan', \n",
    "    'Centraal Station','Cornelis Troostplein','Dam','De Boelelaan/VU','De Pijp','Europaplein',\n",
    "    'Gaasperplas','Gein','Gerrit v.d. Veenstraat','Heemstedestraat','Henk Sneevlietweg','IJsbaanpad', \n",
    "    'Isolatorweg','Jan v.Galenstraat','Keizersgracht','Koningsplein','Kraaienneststation','Leidseplein',\n",
    "    'Maasstraat','Marie Heinekenplein','Minervaplein','Muntplein','Museumplein','Nieuwezijds Kolk',\n",
    "    'Nieuwmarkt','Noord','Noorderpark','Olympiaplein','Olympiaweg','Olympisch stadion','Overamstel', \n",
    "    'Postjesweg','Prinsengracht','Reigersbos','Rijksmuseum','Roelof Hartplein','Rokin','Scheldestraat',\n",
    "    'Spaklerweg','Spui','Station Bijlmer ArenA','Station Diemen-Zuid','Station Duivendrecht', 'Stadionweg'\n",
    "    'Station Ganzenhoef','Station Holendrecht','Station Lelylaan','Station RAI','Station Sloterdijk', \n",
    "    'Strandvliet','Van Baerlestraat','Van der Madeweg','Venserpolder','Verrijn Stuartweg','Victorieplein', \n",
    "    'Vijzelgracht','VU medisch centrum','Waalstraat','Waterlooplein','Weesperplein','Wibautstraat','Station Zuid']"
   ]
  },
  {
   "cell_type": "code",
   "execution_count": 84,
   "metadata": {},
   "outputs": [
    {
     "data": {
      "text/plain": [
       "67"
      ]
     },
     "execution_count": 84,
     "metadata": {},
     "output_type": "execute_result"
    }
   ],
   "source": [
    "len(stations)"
   ]
  },
  {
   "cell_type": "markdown",
   "metadata": {},
   "source": [
    "#### Change dates to datetime objects and add weekday column"
   ]
  },
  {
   "cell_type": "code",
   "execution_count": 17,
   "metadata": {
    "scrolled": true
   },
   "outputs": [],
   "source": [
    "origin['Datum'] = origin['Datum'].apply(lambda x: datetime.datetime.strptime(x[:-3], '%m/%d/%Y %H:%M:%S'))\n",
    "origin['Weekdag'] = origin['Datum'].apply(lambda x: x.isoweekday())\n",
    "\n",
    "destination['Datum'] = destination['Datum'].apply(lambda x: datetime.datetime.strptime(x[:-3], '%m/%d/%Y %H:%M:%S'))\n",
    "destination['Weekdag'] = destination['Datum'].apply(lambda x: x.isoweekday())"
   ]
  },
  {
   "cell_type": "markdown",
   "metadata": {},
   "source": [
    "#### Remove data where the Noord/Zuid line did not run yet\n",
    "The Noord/Zuid line was opened on the 21st of July, so all data before August is not used."
   ]
  },
  {
   "cell_type": "code",
   "execution_count": 18,
   "metadata": {},
   "outputs": [
    {
     "name": "stdout",
     "output_type": "stream",
     "text": [
      "2018-08-02 00:00:00\n"
     ]
    }
   ],
   "source": [
    "print(datetime.datetime(2018, 8, 2))"
   ]
  },
  {
   "cell_type": "code",
   "execution_count": 24,
   "metadata": {},
   "outputs": [],
   "source": [
    "origin = origin[(origin['Datum'] >= datetime.datetime(2018, 8, 6)) & \n",
    "                 (origin['Datum'] < datetime.datetime(2019, 3, 25))]\n",
    "destination = destination[(destination['Datum'] >= datetime.datetime(2018, 8, 6)) &\n",
    "                          (destination['Datum'] < datetime.datetime(2019, 3, 25))]"
   ]
  },
  {
   "cell_type": "markdown",
   "metadata": {},
   "source": [
    "#### Apply necessary filters for analysis\n",
    "The first analysis is only applied on one type of day (1 = Mondays) and for the stations that are included in the sub-network."
   ]
  },
  {
   "cell_type": "code",
   "execution_count": 26,
   "metadata": {
    "scrolled": true
   },
   "outputs": [],
   "source": [
    "o_maandag = origin[(origin['VertrekHalteNaam'].isin(stations)) & (origin['Weekdag'] == 1)]\n",
    "d_maandag = destination[(destination['AankomstHalteNaam'].isin(stations)) & (destination['Weekdag'] == 1)]"
   ]
  },
  {
   "cell_type": "code",
   "execution_count": 27,
   "metadata": {},
   "outputs": [],
   "source": [
    "o_dinsdag = origin[(origin['VertrekHalteNaam'].isin(stations)) & (origin['Weekdag'] == 2)]\n",
    "d_dinsdag = destination[(destination['AankomstHalteNaam'].isin(stations)) & (destination['Weekdag'] == 2)]"
   ]
  },
  {
   "cell_type": "code",
   "execution_count": 28,
   "metadata": {},
   "outputs": [],
   "source": [
    "o_woensdag = origin[(origin['VertrekHalteNaam'].isin(stations)) & (origin['Weekdag'] == 3)]\n",
    "d_woensdag = destination[(destination['AankomstHalteNaam'].isin(stations)) & (destination['Weekdag'] == 3)]"
   ]
  },
  {
   "cell_type": "code",
   "execution_count": 29,
   "metadata": {},
   "outputs": [],
   "source": [
    "o_donderdag = origin[(origin['VertrekHalteNaam'].isin(stations)) & (origin['Weekdag'] == 4)]\n",
    "d_donderdag = destination[(destination['AankomstHalteNaam'].isin(stations)) & (destination['Weekdag'] == 4)]"
   ]
  },
  {
   "cell_type": "code",
   "execution_count": 30,
   "metadata": {},
   "outputs": [],
   "source": [
    "o_vrijdag = origin[(origin['VertrekHalteNaam'].isin(stations)) & (origin['Weekdag'] == 5)]\n",
    "d_vrijdag = destination[(destination['AankomstHalteNaam'].isin(stations)) & (destination['Weekdag'] == 5)]"
   ]
  },
  {
   "cell_type": "code",
   "execution_count": 31,
   "metadata": {},
   "outputs": [],
   "source": [
    "o_zaterdag = origin[(origin['VertrekHalteNaam'].isin(stations)) & (origin['Weekdag'] == 6)]\n",
    "d_zaterdag = destination[(destination['AankomstHalteNaam'].isin(stations)) & (destination['Weekdag'] == 6)]"
   ]
  },
  {
   "cell_type": "code",
   "execution_count": 32,
   "metadata": {},
   "outputs": [],
   "source": [
    "o_zondag = origin[(origin['VertrekHalteNaam'].isin(stations)) & (origin['Weekdag'] == 7)]\n",
    "d_zondag = destination[(destination['AankomstHalteNaam'].isin(stations)) & (destination['Weekdag'] == 7)]"
   ]
  },
  {
   "cell_type": "markdown",
   "metadata": {},
   "source": [
    "#### Remove 'HalteCodes' that are not used in the sub-network"
   ]
  },
  {
   "cell_type": "code",
   "execution_count": 34,
   "metadata": {},
   "outputs": [],
   "source": [
    "stopdict = {'ITW': 2, 'GN': 2, 'RAI': 2, 'VSW': 1, 'ND': 1, 'RKN': 1, \n",
    "            'WPP': 3, 'RGB': 2, 'HVW': 2, 'OAS': 2, 'CLL': 2, 'PJW': 2, \n",
    "            'BLW': 2, 'WBS': 3, 'HLD': 2, 'MDW': 0.6666666666666666, 'SVT': 2, 'DMZ': 1, \n",
    "            'BMR': 2, 'EPP': 1, 'WTC': 0.6666666666666666, 'DPP': 1, 'JLS': 2, 'DVD': 2, \n",
    "            'GZH': 1, 'NDP': 1, 'NMT': 3, 'VLN': 2, 'ASA': 3, 'KEN': 1, \n",
    "            'VPD': 1, 'SLW': 3, 'WLP': 3, 'HDS': 2, 'GPP': 1, 'VZG': 1, \n",
    "            'CS': 3, 'ASW': 2, 'STD': 2, '08070': 1, '09122': 1, \n",
    "            '09121': 1, '07094': 1, '07091': 1, '08071': 1, '09013': 1, \n",
    "            '07004': 1, '08076': 1, '08078': 1, '07307': 1, '07308': 1, \n",
    "            '07120': 2, '07108': 2, '09083': 2, '09082': 2, '07202': 2, \n",
    "            '07121': 2, '09078': 2, '09079': 2, '07084': 2, '07083': 2, \n",
    "            '07207': 2, '07205': 2, '07017': 2, '07303': 2, '07350': 2, \n",
    "            '09074': 2, '09075': 2, '07098': 2, '07097': 2, '07493': 2, \n",
    "            '07490': 2, '09119': 2, '09120': 2, '05036': 3, '05035': 3, \n",
    "            '06072': 3, '06071': 3, '06075': 3, '06076': 3, '06073': 3, \n",
    "            '06074': 3, '07015': 3, '09049': 3, '09051': 3, '05062': 3, \n",
    "            '05061': 3, '07006': 3, '07007': 3, '07322': 3, '07321': 3, \n",
    "            '07323': 3, '07324': 3, '06067': 3, '05063': 3, '05032': 3, \n",
    "            '05031': 3, '07016': 0.6666666666666666, '09114': 0.6666666666666666, \n",
    "            '09111': 0.6666666666666666, '09139': 4, '09140': 4, '05022': 4, \n",
    "            '05011': 5, '06089': 5, '05065': 5, '05070': 5, '05069': 5}"
   ]
  },
  {
   "cell_type": "code",
   "execution_count": 41,
   "metadata": {},
   "outputs": [],
   "source": [
    "o_maandag = o_maandag[o_maandag['VertrekHalteCode'].isin(stopdict.keys())]\n",
    "o_maandag['AantalLijnen'] = o_maandag['VertrekHalteCode'].map(stopdict)\n",
    "o_maandag['AantalReizenNorm'] = o_maandag['AantalReizen']/o_maandag['AantalLijnen']\n",
    "\n",
    "o_dinsdag = o_dinsdag[o_dinsdag['VertrekHalteCode'].isin(stopdict.keys())]\n",
    "o_dinsdag['AantalLijnen'] = o_dinsdag['VertrekHalteCode'].map(stopdict)\n",
    "o_dinsdag['AantalReizenNorm'] = o_dinsdag['AantalReizen']/o_dinsdag['AantalLijnen']\n",
    "\n",
    "o_woensdag = o_woensdag[o_woensdag['VertrekHalteCode'].isin(stopdict.keys())]\n",
    "o_woensdag['AantalLijnen'] = o_woensdag['VertrekHalteCode'].map(stopdict)\n",
    "o_woensdag['AantalReizenNorm'] = o_woensdag['AantalReizen']/o_woensdag['AantalLijnen']\n",
    "\n",
    "o_donderdag = o_donderdag[o_donderdag['VertrekHalteCode'].isin(stopdict.keys())]\n",
    "o_donderdag['AantalLijnen'] = o_donderdag['VertrekHalteCode'].map(stopdict)\n",
    "o_donderdag['AantalReizenNorm'] = o_donderdag['AantalReizen']/o_donderdag['AantalLijnen']\n",
    "\n",
    "o_vrijdag = o_vrijdag[o_vrijdag['VertrekHalteCode'].isin(stopdict.keys())]\n",
    "o_vrijdag['AantalLijnen'] = o_vrijdag['VertrekHalteCode'].map(stopdict)\n",
    "o_vrijdag['AantalReizenNorm'] = o_vrijdag['AantalReizen']/o_vrijdag['AantalLijnen']\n",
    "\n",
    "o_zaterdag = o_zaterdag[o_zaterdag['VertrekHalteCode'].isin(stopdict.keys())]\n",
    "o_zaterdag['AantalLijnen'] = o_zaterdag['VertrekHalteCode'].map(stopdict)\n",
    "o_zaterdag['AantalReizenNorm'] = o_zaterdag['AantalReizen']/o_zaterdag['AantalLijnen']\n",
    "\n",
    "o_zondag = o_zondag[o_zondag['VertrekHalteCode'].isin(stopdict.keys())]\n",
    "o_zondag['AantalLijnen'] = o_zondag['VertrekHalteCode'].map(stopdict)\n",
    "o_zondag['AantalReizenNorm'] = o_zondag['AantalReizen']/o_zondag['AantalLijnen']"
   ]
  },
  {
   "cell_type": "code",
   "execution_count": 42,
   "metadata": {},
   "outputs": [],
   "source": [
    "d_maandag = d_maandag[d_maandag['AankomstHalteCode'].isin(stopdict.keys())]\n",
    "d_maandag['AantalLijnen'] = d_maandag['AankomstHalteCode'].map(stopdict)\n",
    "d_maandag['AantalReizenNorm'] = d_maandag['AantalReizen']/d_maandag['AantalLijnen']\n",
    "\n",
    "d_dinsdag = d_dinsdag[d_dinsdag['AankomstHalteCode'].isin(stopdict.keys())]\n",
    "d_dinsdag['AantalLijnen'] = d_dinsdag['AankomstHalteCode'].map(stopdict)\n",
    "d_dinsdag['AantalReizenNorm'] = d_dinsdag['AantalReizen']/d_dinsdag['AantalLijnen']\n",
    "\n",
    "d_woensdag = d_woensdag[d_woensdag['AankomstHalteCode'].isin(stopdict.keys())]\n",
    "d_woensdag['AantalLijnen'] = d_woensdag['AankomstHalteCode'].map(stopdict)\n",
    "d_woensdag['AantalReizenNorm'] = d_woensdag['AantalReizen']/d_woensdag['AantalLijnen']\n",
    "\n",
    "d_donderdag = d_donderdag[d_donderdag['AankomstHalteCode'].isin(stopdict.keys())]\n",
    "d_donderdag['AantalLijnen'] = d_donderdag['AankomstHalteCode'].map(stopdict)\n",
    "d_donderdag['AantalReizenNorm'] = d_donderdag['AantalReizen']/d_donderdag['AantalLijnen']\n",
    "\n",
    "d_vrijdag = d_vrijdag[d_vrijdag['AankomstHalteCode'].isin(stopdict.keys())]\n",
    "d_vrijdag['AantalLijnen'] = d_vrijdag['AankomstHalteCode'].map(stopdict)\n",
    "d_vrijdag['AantalReizenNorm'] = d_vrijdag['AantalReizen']/d_vrijdag['AantalLijnen']\n",
    "\n",
    "d_zaterdag = d_zaterdag[d_zaterdag['AankomstHalteCode'].isin(stopdict.keys())]\n",
    "d_zaterdag['AantalLijnen'] = d_zaterdag['AankomstHalteCode'].map(stopdict)\n",
    "d_zaterdag['AantalReizenNorm'] = d_zaterdag['AantalReizen']/d_zaterdag['AantalLijnen']\n",
    "\n",
    "d_zondag = d_zondag[d_zondag['AankomstHalteCode'].isin(stopdict.keys())]\n",
    "d_zondag['AantalLijnen'] = d_zondag['AankomstHalteCode'].map(stopdict)\n",
    "d_zondag['AantalReizenNorm'] = d_zondag['AantalReizen']/d_zondag['AantalLijnen']"
   ]
  },
  {
   "cell_type": "markdown",
   "metadata": {},
   "source": [
    "#### Analyze patterns by day"
   ]
  },
  {
   "cell_type": "markdown",
   "metadata": {},
   "source": [
    "#### Group by hour for further analysis"
   ]
  },
  {
   "cell_type": "code",
   "execution_count": 69,
   "metadata": {
    "scrolled": true
   },
   "outputs": [],
   "source": [
    "origingrouped = origin[['UurgroepOmschrijving (van vertrek)','VertrekHalteNaam', 'AantalReizenNorm']]\n",
    "origingrouped = origingrouped.groupby(['UurgroepOmschrijving (van vertrek)', \n",
    "                                'VertrekHalteNaam']).aggregate(['min', np.median, np.sum, max])\n",
    "\n",
    "origingrouped['AantalReizenNorm','mean'] = origingrouped['AantalReizenNorm']['sum'].apply(lambda x: float(x/days))\n",
    "origingrouped = origingrouped.reset_index()\n",
    "origingrouped.columns = ['hour', 'stop', 'min', 'median', 'sum', 'max', 'mean']"
   ]
  },
  {
   "cell_type": "code",
   "execution_count": 70,
   "metadata": {},
   "outputs": [],
   "source": [
    "destinationgrouped = destination[['UurgroepOmschrijving (van aankomst)','AankomstHalteNaam', 'AantalReizenNorm']]\n",
    "destinationgrouped = destinationgrouped.groupby(['UurgroepOmschrijving (van aankomst)', \n",
    "                                'AankomstHalteNaam']).aggregate(['min', np.median, np.sum, 'max'])\n",
    "\n",
    "destinationgrouped['AantalReizenNorm','mean'] = destinationgrouped['AantalReizenNorm']['sum'].apply(lambda x: float(x/days))\n",
    "destinationgrouped = destinationgrouped.reset_index()\n",
    "destinationgrouped.columns = ['hour', 'stop', 'min', 'median', 'sum', 'max', 'mean']"
   ]
  },
  {
   "cell_type": "code",
   "execution_count": 71,
   "metadata": {
    "scrolled": true
   },
   "outputs": [],
   "source": [
    "origingrouped.to_csv('../Data/originzondag.csv', index=False)\n",
    "destinationgrouped.to_csv('../Data/destinationzondag.csv', index=False)"
   ]
  },
  {
   "cell_type": "code",
   "execution_count": 83,
   "metadata": {},
   "outputs": [
    {
     "name": "stdout",
     "output_type": "stream",
     "text": [
      "[('maandag', 'dinsdag'), ('maandag', 'woensdag'), ('maandag', 'donderdag'), ('maandag', 'vrijdag'), ('maandag', 'zaterdag'), ('maandag', 'zondag'), ('dinsdag', 'woensdag'), ('dinsdag', 'donderdag'), ('dinsdag', 'vrijdag'), ('dinsdag', 'zaterdag'), ('dinsdag', 'zondag'), ('woensdag', 'donderdag'), ('woensdag', 'vrijdag'), ('woensdag', 'zaterdag'), ('woensdag', 'zondag'), ('donderdag', 'vrijdag'), ('donderdag', 'zaterdag'), ('donderdag', 'zondag'), ('vrijdag', 'zaterdag'), ('vrijdag', 'zondag'), ('zaterdag', 'zondag')]\n"
     ]
    }
   ],
   "source": [
    "import itertools\n",
    "comb = list(itertools.combinations(['maandag', 'dinsdag', 'woensdag', 'donderdag', 'vrijdag', 'zaterdag', 'zondag'], 2))\n",
    "print(comb)"
   ]
  },
  {
   "cell_type": "code",
   "execution_count": 125,
   "metadata": {},
   "outputs": [],
   "source": [
    "# gvborigin_maandag, gvborigin_dinsdag\n",
    "cossimdict = {}"
   ]
  },
  {
   "cell_type": "code",
   "execution_count": 153,
   "metadata": {},
   "outputs": [],
   "source": [
    "import math\n",
    "\n",
    "cossimlist = []\n",
    "\n",
    "def cosine_similarity(vec1,vec2):\n",
    "        sum11, sum12, sum22 = 0, 0, 0\n",
    "        for i in range(len(vec1)):\n",
    "            x = vec1[i]; y = vec2[i]\n",
    "            sum11 += x*x\n",
    "            sum22 += y*y\n",
    "            sum12 += x*y\n",
    "        return sum12/math.sqrt(sum11*sum22)\n",
    "\n",
    "for key in gvborigin_maandag.keys():\n",
    "    try:\n",
    "        cossimlist.append((key, cosine_similarity(gvbdestination_vrijdag[key][2], gvbdestination_zo[key][2])))\n",
    "    except:\n",
    "        pass\n",
    "    \n",
    "cossimdict[('vrijdag', 'zondag')] = cossimlist"
   ]
  },
  {
   "cell_type": "markdown",
   "metadata": {},
   "source": [
    "#### Create plot of distribution for a certain hour"
   ]
  },
  {
   "cell_type": "code",
   "execution_count": 118,
   "metadata": {
    "scrolled": false
   },
   "outputs": [],
   "source": [
    "cossimdict\n",
    "import pickle\n",
    "output = open('../Data/cossim_origin.pkl', 'wb')\n",
    "pickle.dump(cossimdict, output)\n",
    "output.close()"
   ]
  },
  {
   "cell_type": "code",
   "execution_count": null,
   "metadata": {},
   "outputs": [],
   "source": [
    "def plotgroup(hour, dataframe):\n",
    "    dataframe = dataframe[dataframe['hour'] == hour]\n",
    "    total = dataframe['mean'].sum()\n",
    "    dataframe['percentage'] = dataframe['mean'].apply(lambda x: (x / total) * 100)\n",
    "    dataframe = (dataframe.sort_values(by = 'percentage', ascending = False))\n",
    "    dataframe = (dataframe.sort_values(by = 'stop', ascending = False))\n",
    "    return dataframe.plot(kind = 'barh', x = 'stop', y = 'percentage', figsize = [10,10])"
   ]
  }
 ],
 "metadata": {
  "kernelspec": {
   "display_name": "Python 3",
   "language": "python",
   "name": "python3"
  },
  "language_info": {
   "codemirror_mode": {
    "name": "ipython",
    "version": 3
   },
   "file_extension": ".py",
   "mimetype": "text/x-python",
   "name": "python",
   "nbconvert_exporter": "python",
   "pygments_lexer": "ipython3",
   "version": "3.6.7"
  }
 },
 "nbformat": 4,
 "nbformat_minor": 2
}
