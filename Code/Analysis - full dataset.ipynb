{
 "cells": [
  {
   "cell_type": "markdown",
   "metadata": {},
   "source": [
    "#### Load all packages"
   ]
  },
  {
   "cell_type": "code",
   "execution_count": 1,
   "metadata": {},
   "outputs": [],
   "source": [
    "import pandas as pd\n",
    "import networkx as nx\n",
    "import matplotlib.pyplot as plt\n",
    "import warnings\n",
    "import datetime\n",
    "%matplotlib inline\n",
    "warnings.filterwarnings('ignore')"
   ]
  },
  {
   "cell_type": "markdown",
   "metadata": {},
   "source": [
    "#### Load data for origin and destination per hour"
   ]
  },
  {
   "cell_type": "code",
   "execution_count": 2,
   "metadata": {},
   "outputs": [],
   "source": [
    "origin = pd.read_csv('../../Data/20190403/Datalab_Reis_Herkomst_Uur_20190403.csv', sep=';')\n",
    "origin = origin.dropna()\n",
    "destination = pd.read_csv('../../Data/20190403/Datalab_Reis_Bestemming_Uur_20190402.csv', sep=';')\n",
    "destination = destination.dropna()"
   ]
  },
  {
   "cell_type": "code",
   "execution_count": 3,
   "metadata": {},
   "outputs": [],
   "source": [
    "# List of all stations in the sub-network\n",
    "stations = ['Amsteldijk','Amstelstation','Amstelveenseweg','Beethovenstraat','Bullewijk','Burg.de Vlugtlaan', \n",
    "    'Centraal Station','Cornelis Troostplein','Dam','De Boelelaan/VU','De Pijp','Europaplein',\n",
    "    'Gaasperplas','Gein','Gerrit v.d. Veenstraat','Heemstedestraat','Henk Sneevlietweg','IJsbaanpad', \n",
    "    'Isolatorweg','Jan v.Galenstraat','Keizersgracht','Koningsplein','Kraaienneststation','Leidseplein',\n",
    "    'Maasstraat','Marie Heinekenplein','Minervaplein','Muntplein','Museumplein','Nieuwezijds Kolk',\n",
    "    'Nieuwmarkt','Noord','Noorderpark','Olympiaplein','Olympiaweg','Olympisch stadion','Overamstel', \n",
    "    'Postjesweg','Prinsengracht','Reigersbos','Rijksmuseum','Roelof Hartplein','Rokin','Scheldestraat',\n",
    "    'Spaklerweg','Spui','Station Bijlmer ArenA','Station Diemen-Zuid','Station Duivendrecht',\n",
    "    'Station Ganzenhoef','Station Holendrecht','Station Lelylaan','Station RAI','Station Sloterdijk', \n",
    "    'Strandvliet','Van Baerlestraat','Van der Madeweg','Venserpolder','Verrijn Stuartweg','Victorieplein', \n",
    "    'Vijzelgracht','VU medisch centrum','Waalstraat','Waterlooplein','Weesperplein','Wibautstraat','Station Zuid']"
   ]
  },
  {
   "cell_type": "markdown",
   "metadata": {},
   "source": [
    "#### Change dates to datetime objects and add weekday column"
   ]
  },
  {
   "cell_type": "code",
   "execution_count": 4,
   "metadata": {
    "scrolled": true
   },
   "outputs": [],
   "source": [
    "origin['Datum'] = origin['Datum'].apply(lambda x: datetime.datetime.strptime(x[:-3], '%m/%d/%Y %H:%M:%S'))\n",
    "origin['Weekdag'] = origin['Datum'].apply(lambda x: x.isoweekday())\n",
    "\n",
    "destination['Datum'] = destination['Datum'].apply(lambda x: datetime.datetime.strptime(x[:-3], '%m/%d/%Y %H:%M:%S'))\n",
    "destination['Weekdag'] = destination['Datum'].apply(lambda x: x.isoweekday())"
   ]
  },
  {
   "cell_type": "markdown",
   "metadata": {},
   "source": [
    "#### Remove data where the Noord/Zuid line did not run yet"
   ]
  },
  {
   "cell_type": "code",
   "execution_count": null,
   "metadata": {},
   "outputs": [],
   "source": []
  },
  {
   "cell_type": "code",
   "execution_count": 8,
   "metadata": {
    "scrolled": true
   },
   "outputs": [
    {
     "data": {
      "text/html": [
       "<div>\n",
       "<style scoped>\n",
       "    .dataframe tbody tr th:only-of-type {\n",
       "        vertical-align: middle;\n",
       "    }\n",
       "\n",
       "    .dataframe tbody tr th {\n",
       "        vertical-align: top;\n",
       "    }\n",
       "\n",
       "    .dataframe thead th {\n",
       "        text-align: right;\n",
       "    }\n",
       "</style>\n",
       "<table border=\"1\" class=\"dataframe\">\n",
       "  <thead>\n",
       "    <tr style=\"text-align: right;\">\n",
       "      <th></th>\n",
       "      <th>Datum</th>\n",
       "      <th>UurgroepOmschrijving (van vertrek)</th>\n",
       "      <th>VertrekHalteCode</th>\n",
       "      <th>VertrekHalteNaam</th>\n",
       "      <th>VertrekLat</th>\n",
       "      <th>VertrekLon</th>\n",
       "      <th>AantalReizen</th>\n",
       "      <th>Weekdag</th>\n",
       "    </tr>\n",
       "  </thead>\n",
       "  <tbody>\n",
       "    <tr>\n",
       "      <th>2</th>\n",
       "      <td>2018-01-01 12:00:00</td>\n",
       "      <td>01:00 - 01:59</td>\n",
       "      <td>01365</td>\n",
       "      <td>Atat?rk</td>\n",
       "      <td>4.897943</td>\n",
       "      <td>52.403196</td>\n",
       "      <td>14</td>\n",
       "      <td>1</td>\n",
       "    </tr>\n",
       "    <tr>\n",
       "      <th>3</th>\n",
       "      <td>2018-01-01 12:00:00</td>\n",
       "      <td>01:00 - 01:59</td>\n",
       "      <td>03071</td>\n",
       "      <td>Jan Voermanstraat</td>\n",
       "      <td>4.838186</td>\n",
       "      <td>52.369491</td>\n",
       "      <td>13</td>\n",
       "      <td>1</td>\n",
       "    </tr>\n",
       "    <tr>\n",
       "      <th>4</th>\n",
       "      <td>2018-01-01 12:00:00</td>\n",
       "      <td>01:00 - 01:59</td>\n",
       "      <td>03178</td>\n",
       "      <td>Mercatorplein</td>\n",
       "      <td>4.849917</td>\n",
       "      <td>52.370803</td>\n",
       "      <td>12</td>\n",
       "      <td>1</td>\n",
       "    </tr>\n",
       "    <tr>\n",
       "      <th>5</th>\n",
       "      <td>2018-01-01 12:00:00</td>\n",
       "      <td>01:00 - 01:59</td>\n",
       "      <td>04051</td>\n",
       "      <td>C.K. Eloutstraat</td>\n",
       "      <td>4.811380</td>\n",
       "      <td>52.354345</td>\n",
       "      <td>16</td>\n",
       "      <td>1</td>\n",
       "    </tr>\n",
       "    <tr>\n",
       "      <th>6</th>\n",
       "      <td>2018-01-01 12:00:00</td>\n",
       "      <td>01:00 - 01:59</td>\n",
       "      <td>05070</td>\n",
       "      <td>Nieuwezijds Kolk</td>\n",
       "      <td>4.892841</td>\n",
       "      <td>52.375754</td>\n",
       "      <td>27</td>\n",
       "      <td>1</td>\n",
       "    </tr>\n",
       "  </tbody>\n",
       "</table>\n",
       "</div>"
      ],
      "text/plain": [
       "                Datum UurgroepOmschrijving (van vertrek) VertrekHalteCode  \\\n",
       "2 2018-01-01 12:00:00                      01:00 - 01:59            01365   \n",
       "3 2018-01-01 12:00:00                      01:00 - 01:59            03071   \n",
       "4 2018-01-01 12:00:00                      01:00 - 01:59            03178   \n",
       "5 2018-01-01 12:00:00                      01:00 - 01:59            04051   \n",
       "6 2018-01-01 12:00:00                      01:00 - 01:59            05070   \n",
       "\n",
       "    VertrekHalteNaam  VertrekLat  VertrekLon  AantalReizen  Weekdag  \n",
       "2            Atat?rk    4.897943   52.403196            14        1  \n",
       "3  Jan Voermanstraat    4.838186   52.369491            13        1  \n",
       "4      Mercatorplein    4.849917   52.370803            12        1  \n",
       "5   C.K. Eloutstraat    4.811380   52.354345            16        1  \n",
       "6   Nieuwezijds Kolk    4.892841   52.375754            27        1  "
      ]
     },
     "execution_count": 8,
     "metadata": {},
     "output_type": "execute_result"
    }
   ],
   "source": [
    "origin.head()"
   ]
  },
  {
   "cell_type": "code",
   "execution_count": 6,
   "metadata": {},
   "outputs": [
    {
     "data": {
      "text/html": [
       "<div>\n",
       "<style scoped>\n",
       "    .dataframe tbody tr th:only-of-type {\n",
       "        vertical-align: middle;\n",
       "    }\n",
       "\n",
       "    .dataframe tbody tr th {\n",
       "        vertical-align: top;\n",
       "    }\n",
       "\n",
       "    .dataframe thead th {\n",
       "        text-align: right;\n",
       "    }\n",
       "</style>\n",
       "<table border=\"1\" class=\"dataframe\">\n",
       "  <thead>\n",
       "    <tr style=\"text-align: right;\">\n",
       "      <th></th>\n",
       "      <th>Datum</th>\n",
       "      <th>UurgroepOmschrijving (van aankomst)</th>\n",
       "      <th>AankomstHalteCode</th>\n",
       "      <th>AankomstHalteNaam</th>\n",
       "      <th>AankomstLat</th>\n",
       "      <th>AankomstLon</th>\n",
       "      <th>AantalReizen</th>\n",
       "      <th>Weekdag</th>\n",
       "    </tr>\n",
       "  </thead>\n",
       "  <tbody>\n",
       "    <tr>\n",
       "      <th>2</th>\n",
       "      <td>2018-01-01 12:00:00</td>\n",
       "      <td>01:00 - 01:59</td>\n",
       "      <td>01005</td>\n",
       "      <td>Volendammerweg</td>\n",
       "      <td>4.956804</td>\n",
       "      <td>52.393062</td>\n",
       "      <td>12</td>\n",
       "      <td>1</td>\n",
       "    </tr>\n",
       "    <tr>\n",
       "      <th>3</th>\n",
       "      <td>2018-01-01 12:00:00</td>\n",
       "      <td>01:00 - 01:59</td>\n",
       "      <td>01059</td>\n",
       "      <td>Purmerplein</td>\n",
       "      <td>4.945694</td>\n",
       "      <td>52.390460</td>\n",
       "      <td>11</td>\n",
       "      <td>1</td>\n",
       "    </tr>\n",
       "    <tr>\n",
       "      <th>4</th>\n",
       "      <td>2018-01-01 12:00:00</td>\n",
       "      <td>01:00 - 01:59</td>\n",
       "      <td>ASA</td>\n",
       "      <td>Amstelstation</td>\n",
       "      <td>4.917514</td>\n",
       "      <td>52.346473</td>\n",
       "      <td>89</td>\n",
       "      <td>1</td>\n",
       "    </tr>\n",
       "    <tr>\n",
       "      <th>5</th>\n",
       "      <td>2018-01-01 12:00:00</td>\n",
       "      <td>01:00 - 01:59</td>\n",
       "      <td>BLW</td>\n",
       "      <td>Bullewijk</td>\n",
       "      <td>4.952336</td>\n",
       "      <td>52.306422</td>\n",
       "      <td>136</td>\n",
       "      <td>1</td>\n",
       "    </tr>\n",
       "    <tr>\n",
       "      <th>6</th>\n",
       "      <td>2018-01-01 12:00:00</td>\n",
       "      <td>01:00 - 01:59</td>\n",
       "      <td>BMR</td>\n",
       "      <td>Station Bijlmer ArenA</td>\n",
       "      <td>4.947135</td>\n",
       "      <td>52.311930</td>\n",
       "      <td>414</td>\n",
       "      <td>1</td>\n",
       "    </tr>\n",
       "  </tbody>\n",
       "</table>\n",
       "</div>"
      ],
      "text/plain": [
       "                Datum UurgroepOmschrijving (van aankomst) AankomstHalteCode  \\\n",
       "2 2018-01-01 12:00:00                       01:00 - 01:59             01005   \n",
       "3 2018-01-01 12:00:00                       01:00 - 01:59             01059   \n",
       "4 2018-01-01 12:00:00                       01:00 - 01:59               ASA   \n",
       "5 2018-01-01 12:00:00                       01:00 - 01:59               BLW   \n",
       "6 2018-01-01 12:00:00                       01:00 - 01:59               BMR   \n",
       "\n",
       "       AankomstHalteNaam  AankomstLat  AankomstLon  AantalReizen  Weekdag  \n",
       "2         Volendammerweg     4.956804    52.393062            12        1  \n",
       "3            Purmerplein     4.945694    52.390460            11        1  \n",
       "4          Amstelstation     4.917514    52.346473            89        1  \n",
       "5              Bullewijk     4.952336    52.306422           136        1  \n",
       "6  Station Bijlmer ArenA     4.947135    52.311930           414        1  "
      ]
     },
     "execution_count": 6,
     "metadata": {},
     "output_type": "execute_result"
    }
   ],
   "source": [
    "destination.head()"
   ]
  },
  {
   "cell_type": "code",
   "execution_count": null,
   "metadata": {},
   "outputs": [],
   "source": [
    "# df2.loc[df2['VertrekHalteNaam'].isin(stations)"
   ]
  }
 ],
 "metadata": {
  "kernelspec": {
   "display_name": "Python 3",
   "language": "python",
   "name": "python3"
  },
  "language_info": {
   "codemirror_mode": {
    "name": "ipython",
    "version": 3
   },
   "file_extension": ".py",
   "mimetype": "text/x-python",
   "name": "python",
   "nbconvert_exporter": "python",
   "pygments_lexer": "ipython3",
   "version": "3.6.7"
  }
 },
 "nbformat": 4,
 "nbformat_minor": 2
}
