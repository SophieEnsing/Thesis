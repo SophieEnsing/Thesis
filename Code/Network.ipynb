{
 "cells": [
  {
   "cell_type": "code",
   "execution_count": 1,
   "metadata": {},
   "outputs": [],
   "source": [
    "# Load all packages\n",
    "import pandas as pd\n",
    "import networkx as nx\n",
    "import matplotlib.pyplot as plt\n",
    "%matplotlib inline\n",
    "import warnings\n",
    "warnings.filterwarnings('ignore')\n",
    "import edges as e"
   ]
  },
  {
   "cell_type": "code",
   "execution_count": 2,
   "metadata": {},
   "outputs": [],
   "source": [
    "# Create DataFrame\n",
    "df = pd.read_excel(\"../Data/Rit.xlsx\", sheet_name=\"rit_hb\")\n",
    "df.columns = ['Datum', 'UurgroepOmschrijving', 'VertrekHalteCode',\n",
    "       'VertrekHalteNaam', 'VertrekXCoord', 'VertrekYCoord',\n",
    "       'AankomstHalteCode', 'AankomstHalteNaam', 'AankomstXCoord',\n",
    "       'AankomstYCoord', 'AantalRitten']"
   ]
  },
  {
   "cell_type": "code",
   "execution_count": 3,
   "metadata": {},
   "outputs": [],
   "source": [
    "# Filter DataFrame\n",
    "# Do not include \"Overig\" or trips through a stations \n",
    "df = df[(df[\"VertrekHalteNaam\"] != \"Overig\") & (df[\"AankomstHalteNaam\"] != \"Overig\")]\n",
    "df = df[df[\"VertrekHalteNaam\"] != df[\"AankomstHalteNaam\"]]\n",
    "\n",
    "# Remove NaN values\n",
    "df = df.dropna()"
   ]
  },
  {
   "cell_type": "code",
   "execution_count": 34,
   "metadata": {},
   "outputs": [
    {
     "data": {
      "image/png": "[encoded data removed]",
      "text/plain": [
       "<Figure size 432x288 with 1 Axes>"
      ]
     },
     "metadata": {},
     "output_type": "display_data"
    }
   ],
   "source": [
    "# Create graph\n",
    "G=nx.MultiDiGraph()\n",
    "\n",
    "# Lijn 52\n",
    "G.add_edges_from([(\"Noord\",\"Noorderpark\",{\"length\":2}), (\"Noorderpark\", \"Noord\",{\"length\":2}),\n",
    "                  (\"Noorderpark\",\"Centraal Station\",{\"length\":2}), (\"Centraal Station\", \"Noorderpark\",{\"length\":2}),\n",
    "                  (\"Centraal Station\",\"Rokin\",{\"length\":2}), (\"Rokin\", \"Centraal Station\",{\"length\":2}),\n",
    "                  (\"Rokin\",\"Vijzelgracht\",{\"length\":2}), (\"Vijzelgracht\", \"Rokin\",{\"length\":2}),\n",
    "                  (\"Vijzelgracht\",\"De Pijp\",{\"length\":2}), (\"De Pijp\", \"Vijzelgracht\",{\"length\":2}),\n",
    "                  (\"De Pijp\",\"Europaplein\",{\"length\":2}), (\"Europaplein\", \"De Pijp\",{\"length\":2}),\n",
    "                  (\"Europaplein\",\"Zuid\",{\"length\":3}), (\"Zuid\", \"Europaplein\",{\"length\":3})], line='LIJN52')\n",
    "\n",
    "LIJN52 = [(u, v) for (u, v, d) in G.edges(data=True) if d['line'] == 'LIJN52']\n",
    "\n",
    "# Stations with X + Y coordinates from line 52\n",
    "pos = {\"Noord\": (493123182.0,5.240117e+09), \"Noorderpark\": (491789115.0,5.238856e+09), \n",
    "       \"Centraal Station\": (490078150.0, 5.237749e+09), \"Rokin\": (489229651.0,5.236928e+09),\n",
    "       \"Vijzelgracht\": (489072870.0,5.235980e+09), \"De Pijp\": (489101069.0,5.235296e+09), \n",
    "       \"Europaplein\": (489138430.0,5.234185e+09), \"Zuid\": (487509853.0,5.233908e+09)}\n",
    "\n",
    "nx.draw_networkx_nodes(G, pos, node_size=10)\n",
    "\n",
    "# Edges\n",
    "nx.draw_networkx_edges(G, pos, edgelist=LIJN52, edge_color='blue')\n",
    "\n",
    "# Labels\n",
    "nx.draw_networkx_labels(G, pos, font_size=8)\n",
    "\n",
    "edge_labels = dict([((u, v), d['length']) for u, v, d in G.edges(data=True)])\n",
    "nx.draw_networkx_edge_labels(G, pos, edge_labels=edge_labels)\n",
    "\n",
    "# Display\n",
    "plt.axis('off')\n",
    "plt.show()"
   ]
  },
  {
   "cell_type": "code",
   "execution_count": null,
   "metadata": {},
   "outputs": [],
   "source": []
  }
 ],
 "metadata": {
  "kernelspec": {
   "display_name": "Python 3",
   "language": "python",
   "name": "python3"
  },
  "language_info": {
   "codemirror_mode": {
    "name": "ipython",
    "version": 3
   },
   "file_extension": ".py",
   "mimetype": "text/x-python",
   "name": "python",
   "nbconvert_exporter": "python",
   "pygments_lexer": "ipython3",
   "version": "3.6.7"
  }
 },
 "nbformat": 4,
 "nbformat_minor": 2
}
