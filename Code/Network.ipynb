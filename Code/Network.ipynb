{
 "cells": [
  {
   "cell_type": "code",
   "execution_count": 1,
   "metadata": {},
   "outputs": [],
   "source": [
    "# Load all packages\n",
    "import pandas as pd\n",
    "import networkx as nx\n",
    "import matplotlib.pyplot as plt\n",
    "%matplotlib inline\n",
    "import warnings\n",
    "warnings.filterwarnings('ignore')"
   ]
  },
  {
   "cell_type": "code",
   "execution_count": 2,
   "metadata": {},
   "outputs": [],
   "source": [
    "# Create DataFrame\n",
    "df = pd.read_excel(\"../Data/Rit.xlsx\", sheet_name=\"rit_hb\")\n",
    "df.columns = ['Datum', 'UurgroepOmschrijving', 'VertrekHalteCode',\n",
    "       'VertrekHalteNaam', 'VertrekXCoord', 'VertrekYCoord',\n",
    "       'AankomstHalteCode', 'AankomstHalteNaam', 'AankomstXCoord',\n",
    "       'AankomstYCoord', 'AantalRitten']"
   ]
  },
  {
   "cell_type": "code",
   "execution_count": 3,
   "metadata": {},
   "outputs": [
    {
     "data": {
      "text/html": [
       "<div>\n",
       "<style scoped>\n",
       "    .dataframe tbody tr th:only-of-type {\n",
       "        vertical-align: middle;\n",
       "    }\n",
       "\n",
       "    .dataframe tbody tr th {\n",
       "        vertical-align: top;\n",
       "    }\n",
       "\n",
       "    .dataframe thead th {\n",
       "        text-align: right;\n",
       "    }\n",
       "</style>\n",
       "<table border=\"1\" class=\"dataframe\">\n",
       "  <thead>\n",
       "    <tr style=\"text-align: right;\">\n",
       "      <th></th>\n",
       "      <th>Datum</th>\n",
       "      <th>UurgroepOmschrijving</th>\n",
       "      <th>VertrekHalteCode</th>\n",
       "      <th>VertrekHalteNaam</th>\n",
       "      <th>VertrekXCoord</th>\n",
       "      <th>VertrekYCoord</th>\n",
       "      <th>AankomstHalteCode</th>\n",
       "      <th>AankomstHalteNaam</th>\n",
       "      <th>AankomstXCoord</th>\n",
       "      <th>AankomstYCoord</th>\n",
       "      <th>AantalRitten</th>\n",
       "    </tr>\n",
       "  </thead>\n",
       "  <tbody>\n",
       "    <tr>\n",
       "      <th>0</th>\n",
       "      <td>2018-12-24</td>\n",
       "      <td>00:00 - 00:59</td>\n",
       "      <td>0</td>\n",
       "      <td>Overig</td>\n",
       "      <td>0.0</td>\n",
       "      <td>0.000000e+00</td>\n",
       "      <td>0</td>\n",
       "      <td>Overig</td>\n",
       "      <td>0.0</td>\n",
       "      <td>0.000000e+00</td>\n",
       "      <td>80.0</td>\n",
       "    </tr>\n",
       "    <tr>\n",
       "      <th>1</th>\n",
       "      <td>2018-12-24</td>\n",
       "      <td>00:00 - 00:59</td>\n",
       "      <td>5046</td>\n",
       "      <td>Rembrandtplein</td>\n",
       "      <td>489627975.0</td>\n",
       "      <td>5.236626e+09</td>\n",
       "      <td>5096</td>\n",
       "      <td>Centraal Station</td>\n",
       "      <td>490049319.0</td>\n",
       "      <td>5.237968e+09</td>\n",
       "      <td>10.0</td>\n",
       "    </tr>\n",
       "    <tr>\n",
       "      <th>2</th>\n",
       "      <td>2018-12-24</td>\n",
       "      <td>00:00 - 00:59</td>\n",
       "      <td>5096</td>\n",
       "      <td>Centraal Station</td>\n",
       "      <td>490049319.0</td>\n",
       "      <td>5.237968e+09</td>\n",
       "      <td>0</td>\n",
       "      <td>Overig</td>\n",
       "      <td>0.0</td>\n",
       "      <td>0.000000e+00</td>\n",
       "      <td>10.0</td>\n",
       "    </tr>\n",
       "    <tr>\n",
       "      <th>3</th>\n",
       "      <td>2018-12-24</td>\n",
       "      <td>00:00 - 00:59</td>\n",
       "      <td>6063</td>\n",
       "      <td>Leidseplein</td>\n",
       "      <td>488064547.0</td>\n",
       "      <td>5.236476e+09</td>\n",
       "      <td>0</td>\n",
       "      <td>Overig</td>\n",
       "      <td>0.0</td>\n",
       "      <td>0.000000e+00</td>\n",
       "      <td>10.0</td>\n",
       "    </tr>\n",
       "    <tr>\n",
       "      <th>4</th>\n",
       "      <td>2018-12-24</td>\n",
       "      <td>01:00 - 01:59</td>\n",
       "      <td>0</td>\n",
       "      <td>Overig</td>\n",
       "      <td>0.0</td>\n",
       "      <td>0.000000e+00</td>\n",
       "      <td>0</td>\n",
       "      <td>Overig</td>\n",
       "      <td>0.0</td>\n",
       "      <td>0.000000e+00</td>\n",
       "      <td>140.0</td>\n",
       "    </tr>\n",
       "  </tbody>\n",
       "</table>\n",
       "</div>"
      ],
      "text/plain": [
       "       Datum UurgroepOmschrijving VertrekHalteCode  VertrekHalteNaam  \\\n",
       "0 2018-12-24        00:00 - 00:59                0            Overig   \n",
       "1 2018-12-24        00:00 - 00:59             5046    Rembrandtplein   \n",
       "2 2018-12-24        00:00 - 00:59             5096  Centraal Station   \n",
       "3 2018-12-24        00:00 - 00:59             6063       Leidseplein   \n",
       "4 2018-12-24        01:00 - 01:59                0            Overig   \n",
       "\n",
       "   VertrekXCoord  VertrekYCoord AankomstHalteCode AankomstHalteNaam  \\\n",
       "0            0.0   0.000000e+00                 0            Overig   \n",
       "1    489627975.0   5.236626e+09              5096  Centraal Station   \n",
       "2    490049319.0   5.237968e+09                 0            Overig   \n",
       "3    488064547.0   5.236476e+09                 0            Overig   \n",
       "4            0.0   0.000000e+00                 0            Overig   \n",
       "\n",
       "   AankomstXCoord  AankomstYCoord  AantalRitten  \n",
       "0             0.0    0.000000e+00          80.0  \n",
       "1     490049319.0    5.237968e+09          10.0  \n",
       "2             0.0    0.000000e+00          10.0  \n",
       "3             0.0    0.000000e+00          10.0  \n",
       "4             0.0    0.000000e+00         140.0  "
      ]
     },
     "execution_count": 3,
     "metadata": {},
     "output_type": "execute_result"
    }
   ],
   "source": [
    "df.head(5)"
   ]
  },
  {
   "cell_type": "code",
   "execution_count": 4,
   "metadata": {},
   "outputs": [
    {
     "name": "stdout",
     "output_type": "stream",
     "text": [
      "{'CS', 5096, 5097, 5100, 5101, 5103, 5104, 5105, 5106, 5011, 5107, 5022}\n"
     ]
    }
   ],
   "source": [
    "dfCS = df[df['VertrekHalteNaam'] == \"Centraal Station\"]\n",
    "print(set(dfCS[\"VertrekHalteCode\"].tolist()))"
   ]
  },
  {
   "cell_type": "code",
   "execution_count": 5,
   "metadata": {},
   "outputs": [],
   "source": [
    "# Filter DataFrame\n",
    "# Do not include \"Overig\" or trips through a stations \n",
    "df = df[(df[\"VertrekHalteNaam\"] != \"Overig\") & (df[\"AankomstHalteNaam\"] != \"Overig\")]\n",
    "df = df[df[\"VertrekHalteNaam\"] != df[\"AankomstHalteNaam\"]]\n",
    "\n",
    "# Remove NaN values\n",
    "df = df.dropna()"
   ]
  },
  {
   "cell_type": "code",
   "execution_count": 6,
   "metadata": {},
   "outputs": [],
   "source": [
    "s1 = df['VertrekHalteCode'].tolist()\n",
    "s2 = df['AankomstHalteCode'].tolist()\n",
    "\n",
    "stations = set(s1 + s2)"
   ]
  },
  {
   "cell_type": "code",
   "execution_count": 7,
   "metadata": {},
   "outputs": [],
   "source": [
    "from collections import defaultdict\n",
    "pos = defaultdict()\n",
    "\n",
    "vertrekhaltes = df[\"VertrekHalteCode\"].tolist()\n",
    "vertrekx = df[\"VertrekXCoord\"].tolist()\n",
    "vertreky = df[\"VertrekYCoord\"].tolist()\n",
    "\n",
    "for i in range(len(vertrekhaltes)):\n",
    "    pos[vertrekhaltes[i]] = (vertrekx[i], vertreky[i])\n",
    "    \n",
    "aankomsthaltes = df[\"AankomstHalteCode\"].tolist()\n",
    "aankomstx = df[\"AankomstXCoord\"].tolist()\n",
    "aankomsty = df[\"AankomstYCoord\"].tolist()\n",
    "\n",
    "for i in range(len(aankomsthaltes)):\n",
    "    pos[aankomsthaltes[i]] = (aankomstx[i], aankomsty[i])"
   ]
  },
  {
   "cell_type": "code",
   "execution_count": 8,
   "metadata": {},
   "outputs": [
    {
     "data": {
      "text/plain": [
       "(489627975.0, 5236625897.0)"
      ]
     },
     "execution_count": 8,
     "metadata": {},
     "output_type": "execute_result"
    }
   ],
   "source": [
    "pos[5046]"
   ]
  },
  {
   "cell_type": "code",
   "execution_count": 9,
   "metadata": {},
   "outputs": [],
   "source": [
    "G = nx.Graph()\n",
    "\n",
    "for station in stations:\n",
    "    # Voeg alle stations als nodes toe met exacte coordinaten.\n",
    "    G.add_node(station)\n",
    "\n",
    "# pos = {city:(lon, lat) for city, (lat, lon) in nx.get_node_attributes(G, 'pos').items()}"
   ]
  },
  {
   "cell_type": "code",
   "execution_count": 10,
   "metadata": {},
   "outputs": [
    {
     "data": {
      "text/plain": [
       "<networkx.classes.digraph.DiGraph at 0xa0b4dc9b0>"
      ]
     },
     "execution_count": 10,
     "metadata": {},
     "output_type": "execute_result"
    }
   ],
   "source": [
    "# Create graph from DataFrame\n",
    "# G = nx.from_pandas_edgelist(df, \"VertrekHalteCode\", \"AankomstHalteCode\", \"AantalRitten\")\n",
    "G.to_directed()"
   ]
  },
  {
   "cell_type": "code",
   "execution_count": 11,
   "metadata": {
    "scrolled": false
   },
   "outputs": [
    {
     "data": {
      "image/png": "[encoded data removed]",
      "text/plain": [
       "<Figure size 864x864 with 1 Axes>"
      ]
     },
     "metadata": {},
     "output_type": "display_data"
    }
   ],
   "source": [
    "plt.figure(figsize=(12,12))\n",
    "nx.draw(G, pos=pos, node_size=2)\n",
    "plt.show()"
   ]
  },
  {
   "cell_type": "code",
   "execution_count": 65,
   "metadata": {},
   "outputs": [
    {
     "data": {
      "text/plain": [
       "[0, 0, 0, 0, 0, 0, 0, 0, 0, 0, 0, 0, 0, 0, 0, 0, 0, 0, 0, 0, 0, 0]"
      ]
     },
     "execution_count": 65,
     "metadata": {},
     "output_type": "execute_result"
    }
   ],
   "source": [
    "G = nx.MultiDiGraph()\n",
    "G.add_nodes_from([\"A\", \"B\", \"C\", \"D\", \"E\", \"F\", \"G\", \"H\", \"I\"])\n",
    "G.add_edges_from([(\"A\",\"B\", {\"color\":\"blue\"}), (\"B\", \"A\"), (\"A\", \"H\"), (\"H\", \"A\"), (\"H\", \"G\"), (\"G\", \"H\"),\n",
    "                 (\"G\", \"D\"), (\"D\", \"G\"), (\"D\", \"E\"), (\"E\", \"D\"), (\"E\", \"F\"), (\"F\", \"E\"),\n",
    "                 (\"C\", \"I\"), (\"I\", \"C\"), (\"B\", \"C\"), (\"C\", \"B\"), (\"B\", \"D\"), (\"D\", \"B\"),\n",
    "                 (\"D\", \"C\"), (\"C\", \"D\"), (\"C\", \"E\"), (\"E\", \"C\")])"
   ]
  },
  {
   "cell_type": "code",
   "execution_count": 76,
   "metadata": {},
   "outputs": [
    {
     "data": {
      "image/png": "[encoded data removed]",
      "text/plain": [
       "<Figure size 432x288 with 1 Axes>"
      ]
     },
     "metadata": {},
     "output_type": "display_data"
    }
   ],
   "source": [
    "plt.figure()\n",
    "nx.draw(G, with_labels=True)\n",
    "plt.show()"
   ]
  },
  {
   "cell_type": "code",
   "execution_count": null,
   "metadata": {},
   "outputs": [],
   "source": []
  }
 ],
 "metadata": {
  "kernelspec": {
   "display_name": "Python 3",
   "language": "python",
   "name": "python3"
  },
  "language_info": {
   "codemirror_mode": {
    "name": "ipython",
    "version": 3
   },
   "file_extension": ".py",
   "mimetype": "text/x-python",
   "name": "python",
   "nbconvert_exporter": "python",
   "pygments_lexer": "ipython3",
   "version": "3.6.7"
  }
 },
 "nbformat": 4,
 "nbformat_minor": 2
}
