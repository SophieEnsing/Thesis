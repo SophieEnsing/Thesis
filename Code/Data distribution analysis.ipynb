{
 "cells": [
  {
   "cell_type": "code",
   "execution_count": 35,
   "metadata": {},
   "outputs": [],
   "source": [
    "import networkx as nx\n",
    "import warnings\n",
    "import datetime\n",
    "import seaborn as sn\n",
    "sn.set()\n",
    "import pandas as pd\n",
    "import numpy as np\n",
    "import matplotlib.pyplot as plt\n",
    "import json\n",
    "import math\n",
    "%matplotlib inline\n",
    "warnings.filterwarnings('ignore')"
   ]
  },
  {
   "cell_type": "code",
   "execution_count": 22,
   "metadata": {},
   "outputs": [],
   "source": [
    "def plotdistribution(filename):\n",
    "    with open(filename) as handle:\n",
    "        distdict = json.loads(handle.read())\n",
    "    \n",
    "    newdict = {k: v[0] for k, v in distdict.items()}\n",
    "    df = pd.DataFrame.from_dict(newdict, orient = 'index')\n",
    "    df = df.reset_index()\n",
    "    df = df.sort_values(by = 'index', ascending = True)\n",
    "        \n",
    "    return df.plot(kind = 'bar', x = 'index', y = 0, figsize = [10,7])"
   ]
  },
  {
   "cell_type": "code",
   "execution_count": 34,
   "metadata": {},
   "outputs": [
    {
     "data": {
      "text/plain": [
       "<matplotlib.axes._subplots.AxesSubplot at 0x1a2373ce80>"
      ]
     },
     "execution_count": 34,
     "metadata": {},
     "output_type": "execute_result"
    },
    {
     "data": {
      "image/png": "[encoded data removed]",
      "text/plain": [
       "<Figure size 720x504 with 1 Axes>"
      ]
     },
     "metadata": {},
     "output_type": "display_data"
    },
    {
     "data": {
      "image/png": "[encoded data removed]",
      "text/plain": [
       "<Figure size 720x504 with 1 Axes>"
      ]
     },
     "metadata": {},
     "output_type": "display_data"
    }
   ],
   "source": [
    "plotdistribution('../Data/dicts/o_ma.json')\n",
    "plotdistribution('../Data/dicts/o_di.json')"
   ]
  },
  {
   "cell_type": "code",
   "execution_count": 57,
   "metadata": {},
   "outputs": [],
   "source": [
    "def cossim(vec1,vec2):\n",
    "        sum11, sum12, sum22 = 0, 0, 0\n",
    "        for i in range(len(vec1)):\n",
    "            x = vec1[i]; y = vec2[i]\n",
    "            sum11 += x*x\n",
    "            sum22 += y*y\n",
    "            sum12 += x*y\n",
    "        return sum12/math.sqrt(sum11*sum22)"
   ]
  },
  {
   "cell_type": "code",
   "execution_count": 60,
   "metadata": {},
   "outputs": [],
   "source": [
    "def cosine_similarity(filename1, filename2):\n",
    "    with open(filename1) as handle:\n",
    "        distdict1 = json.loads(handle.read())\n",
    "    \n",
    "    with open(filename2) as handle:\n",
    "        distdict2 = json.loads(handle.read())\n",
    "        \n",
    "    newdict1 = {k: v[0] for k, v in distdict1.items()}\n",
    "    df1 = pd.DataFrame.from_dict(newdict1, orient = 'index')\n",
    "    df1 = df1.reset_index()\n",
    "    df1 = df1.sort_values(by = 'index', ascending = True)\n",
    "    \n",
    "    newdict2 = {k: v[0] for k, v in distdict2.items()}\n",
    "    df2 = pd.DataFrame.from_dict(newdict2, orient = 'index')\n",
    "    df2 = df2.reset_index()\n",
    "    df2 = df2.sort_values(by = 'index', ascending = True)\n",
    "    \n",
    "    return cossim(df1[0].tolist(), df2[0].tolist())"
   ]
  },
  {
   "cell_type": "code",
   "execution_count": 86,
   "metadata": {},
   "outputs": [
    {
     "data": {
      "text/plain": [
       "0.9940344408383943"
      ]
     },
     "execution_count": 86,
     "metadata": {},
     "output_type": "execute_result"
    }
   ],
   "source": [
    "cosine_similarity('../Data/dicts/o_za.json', '../Data/dicts/o_zo.json')"
   ]
  },
  {
   "cell_type": "code",
   "execution_count": null,
   "metadata": {},
   "outputs": [],
   "source": []
  }
 ],
 "metadata": {
  "kernelspec": {
   "display_name": "Python 3",
   "language": "python",
   "name": "python3"
  },
  "language_info": {
   "codemirror_mode": {
    "name": "ipython",
    "version": 3
   },
   "file_extension": ".py",
   "mimetype": "text/x-python",
   "name": "python",
   "nbconvert_exporter": "python",
   "pygments_lexer": "ipython3",
   "version": "3.6.7"
  }
 },
 "nbformat": 4,
 "nbformat_minor": 2
}
