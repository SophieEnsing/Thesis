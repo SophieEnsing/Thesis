{
 "cells": [
  {
   "cell_type": "code",
   "execution_count": 3,
   "metadata": {},
   "outputs": [],
   "source": [
    "import networkx as nx\n",
    "import warnings\n",
    "import datetime\n",
    "import seaborn as sn\n",
    "sn.set()\n",
    "sn.set(font_scale=2)\n",
    "\n",
    "import pandas as pd\n",
    "import numpy as np\n",
    "import matplotlib.pyplot as plt\n",
    "import json\n",
    "import math\n",
    "%matplotlib inline\n",
    "warnings.filterwarnings('ignore')"
   ]
  },
  {
   "cell_type": "code",
   "execution_count": 7,
   "metadata": {},
   "outputs": [],
   "source": [
    "with open('../Data/dicts/o_ma.json') as handle:\n",
    "    distdictma = json.loads(handle.read())\n",
    "with open('../Data/dicts/o_di.json') as handle:\n",
    "    distdictdi = json.loads(handle.read())\n",
    "with open('../Data/dicts/o_wo.json') as handle:\n",
    "    distdictwo = json.loads(handle.read())\n",
    "with open('../Data/dicts/o_do.json') as handle:\n",
    "    distdictdo = json.loads(handle.read())\n",
    "with open('../Data/dicts/o_vr.json') as handle:\n",
    "    distdictvr = json.loads(handle.read())\n",
    "with open('../Data/dicts/o_za.json') as handle:\n",
    "    distdictza = json.loads(handle.read())\n",
    "with open('../Data/dicts/o_zo.json') as handle:\n",
    "    distdictzo = json.loads(handle.read())\n",
    "\n",
    "newdictma = {k: v[0] for k, v in distdictma.items()}\n",
    "newdictdi = {k: v[0] for k, v in distdictdi.items()}\n",
    "newdictwo = {k: v[0] for k, v in distdictwo.items()}\n",
    "newdictdo = {k: v[0] for k, v in distdictdo.items()}\n",
    "newdictvr = {k: v[0] for k, v in distdictvr.items()}\n",
    "newdictza = {k: v[0] for k, v in distdictza.items()}\n",
    "newdictzo = {k: v[0] for k, v in distdictzo.items()}\n",
    "\n",
    "dfma = pd.DataFrame.from_dict(newdictma, orient = 'index')\n",
    "dfma = dfma.reset_index()\n",
    "dfma = dfma.sort_values(by = 'index', ascending = True)\n",
    "dfma = dfma[dfma['index'].isin(['08', '11', '14', '17', '20'])]\n",
    "dfdi = pd.DataFrame.from_dict(newdictdi, orient = 'index')\n",
    "dfdi = dfdi.reset_index()\n",
    "dfdi = dfdi.sort_values(by = 'index', ascending = True)\n",
    "dfdi = dfdi[dfdi['index'].isin(['08', '11', '14', '17', '20'])]\n",
    "dfwo = pd.DataFrame.from_dict(newdictwo, orient = 'index')\n",
    "dfwo = dfwo.reset_index()\n",
    "dfwo = dfwo.sort_values(by = 'index', ascending = True)\n",
    "dfwo = dfwo[dfwo['index'].isin(['08', '11', '14', '17', '20'])]\n",
    "dfdo = pd.DataFrame.from_dict(newdictdo, orient = 'index')\n",
    "dfdo = dfdo.reset_index()\n",
    "dfdo = dfdo.sort_values(by = 'index', ascending = True)\n",
    "dfdo = dfdo[dfdo['index'].isin(['08', '11', '14', '17', '20'])]\n",
    "dfvr = pd.DataFrame.from_dict(newdictvr, orient = 'index')\n",
    "dfvr = dfvr.reset_index()\n",
    "dfvr = dfvr.sort_values(by = 'index', ascending = True)\n",
    "dfvr = dfvr[dfvr['index'].isin(['08', '11', '14', '17', '20'])]\n",
    "dfza = pd.DataFrame.from_dict(newdictza, orient = 'index')\n",
    "dfza = dfza.reset_index()\n",
    "dfza = dfza.sort_values(by = 'index', ascending = True)\n",
    "dfza = dfza[dfza['index'].isin(['08', '11', '14', '17', '20'])]\n",
    "dfzo = pd.DataFrame.from_dict(newdictzo, orient = 'index')\n",
    "dfzo = dfzo.reset_index()\n",
    "dfzo = dfzo.sort_values(by = 'index', ascending = True)\n",
    "dfzo = dfzo[dfzo['index'].isin(['08', '11', '14', '17', '20'])]"
   ]
  },
  {
   "cell_type": "code",
   "execution_count": 8,
   "metadata": {},
   "outputs": [
    {
     "name": "stdout",
     "output_type": "stream",
     "text": [
      "['08', '11', '14', '17', '20']\n"
     ]
    }
   ],
   "source": [
    "print(dfzo['index'].tolist())"
   ]
  },
  {
   "cell_type": "code",
   "execution_count": 11,
   "metadata": {},
   "outputs": [
    {
     "data": {
      "image/png": "[encoded data removed]",
      "text/plain": [
       "<Figure size 1440x576 with 1 Axes>"
      ]
     },
     "metadata": {},
     "output_type": "display_data"
    }
   ],
   "source": [
    "index = [\"08:00 - 09:00\", \"11:00 - 12:00\", \"14:00 - 15:00\", \"17:00 - 18:00\", \"20:00 - 21:00\"]\n",
    "\n",
    "df = pd.DataFrame({'Monday': dfma[0].tolist(),\n",
    "                  'Tuesday': dfdo[0].tolist(),\n",
    "                  'Wednesday': dfwo[0].tolist(),\n",
    "                  'Thursday': dfdo[0].tolist(),\n",
    "                  'Friday': dfvr[0].tolist(),\n",
    "                  'Saturday': dfza[0].tolist(),\n",
    "                  'Sunday': dfzo[0].tolist()}, index=index)\n",
    "\n",
    "plot = df.plot.bar(figsize = [20,8], colors = sn.color_palette(\"Set2\", 7), width = 0.7)\n",
    "plot.set_xticklabels(index, rotation=0)\n",
    "plot.legend(fontsize='x-large')\n",
    "\n",
    "plot.figure.savefig(\"../../distribution.png\")"
   ]
  },
  {
   "cell_type": "code",
   "execution_count": 4,
   "metadata": {},
   "outputs": [
    {
     "ename": "NameError",
     "evalue": "name 'dataframe' is not defined",
     "output_type": "error",
     "traceback": [
      "\u001b[0;31m---------------------------------------------------------------------------\u001b[0m",
      "\u001b[0;31mNameError\u001b[0m                                 Traceback (most recent call last)",
      "\u001b[0;32m<ipython-input-4-97211af73401>\u001b[0m in \u001b[0;36m<module>\u001b[0;34m()\u001b[0m\n\u001b[0;32m----> 1\u001b[0;31m \u001b[0mdataframe\u001b[0m \u001b[0;34m=\u001b[0m \u001b[0mdataframe\u001b[0m\u001b[0;34m[\u001b[0m\u001b[0mdataframe\u001b[0m\u001b[0;34m[\u001b[0m\u001b[0;34m'hour'\u001b[0m\u001b[0;34m]\u001b[0m \u001b[0;34m==\u001b[0m \u001b[0mhour\u001b[0m\u001b[0;34m]\u001b[0m\u001b[0;34m\u001b[0m\u001b[0;34m\u001b[0m\u001b[0m\n\u001b[0m\u001b[1;32m      2\u001b[0m \u001b[0mtotal\u001b[0m \u001b[0;34m=\u001b[0m \u001b[0mdataframe\u001b[0m\u001b[0;34m[\u001b[0m\u001b[0;34m'mean'\u001b[0m\u001b[0;34m]\u001b[0m\u001b[0;34m.\u001b[0m\u001b[0msum\u001b[0m\u001b[0;34m(\u001b[0m\u001b[0;34m)\u001b[0m\u001b[0;34m\u001b[0m\u001b[0;34m\u001b[0m\u001b[0m\n\u001b[1;32m      3\u001b[0m \u001b[0mdataframe\u001b[0m\u001b[0;34m[\u001b[0m\u001b[0;34m'percentage'\u001b[0m\u001b[0;34m]\u001b[0m \u001b[0;34m=\u001b[0m \u001b[0mdataframe\u001b[0m\u001b[0;34m[\u001b[0m\u001b[0;34m'mean'\u001b[0m\u001b[0;34m]\u001b[0m\u001b[0;34m.\u001b[0m\u001b[0mapply\u001b[0m\u001b[0;34m(\u001b[0m\u001b[0;32mlambda\u001b[0m \u001b[0mx\u001b[0m\u001b[0;34m:\u001b[0m \u001b[0;34m(\u001b[0m\u001b[0mx\u001b[0m \u001b[0;34m/\u001b[0m \u001b[0mtotal\u001b[0m\u001b[0;34m)\u001b[0m \u001b[0;34m*\u001b[0m \u001b[0;36m100\u001b[0m\u001b[0;34m)\u001b[0m\u001b[0;34m\u001b[0m\u001b[0;34m\u001b[0m\u001b[0m\n\u001b[1;32m      4\u001b[0m \u001b[0mdataframe\u001b[0m \u001b[0;34m=\u001b[0m \u001b[0;34m(\u001b[0m\u001b[0mdataframe\u001b[0m\u001b[0;34m.\u001b[0m\u001b[0msort_values\u001b[0m\u001b[0;34m(\u001b[0m\u001b[0mby\u001b[0m \u001b[0;34m=\u001b[0m \u001b[0;34m'percentage'\u001b[0m\u001b[0;34m,\u001b[0m \u001b[0mascending\u001b[0m \u001b[0;34m=\u001b[0m \u001b[0;32mFalse\u001b[0m\u001b[0;34m)\u001b[0m\u001b[0;34m)\u001b[0m\u001b[0;34m\u001b[0m\u001b[0;34m\u001b[0m\u001b[0m\n\u001b[1;32m      5\u001b[0m \u001b[0mdataframe\u001b[0m \u001b[0;34m=\u001b[0m \u001b[0;34m(\u001b[0m\u001b[0mdataframe\u001b[0m\u001b[0;34m.\u001b[0m\u001b[0msort_values\u001b[0m\u001b[0;34m(\u001b[0m\u001b[0mby\u001b[0m \u001b[0;34m=\u001b[0m \u001b[0;34m'stop'\u001b[0m\u001b[0;34m,\u001b[0m \u001b[0mascending\u001b[0m \u001b[0;34m=\u001b[0m \u001b[0;32mFalse\u001b[0m\u001b[0;34m)\u001b[0m\u001b[0;34m)\u001b[0m\u001b[0;34m\u001b[0m\u001b[0;34m\u001b[0m\u001b[0m\n",
      "\u001b[0;31mNameError\u001b[0m: name 'dataframe' is not defined"
     ]
    }
   ],
   "source": [
    "dataframe = dataframe[dataframe['hour'] == hour]\n",
    "total = dataframe['mean'].sum()\n",
    "dataframe['percentage'] = dataframe['mean'].apply(lambda x: (x / total) * 100)\n",
    "dataframe = (dataframe.sort_values(by = 'percentage', ascending = False))\n",
    "dataframe = (dataframe.sort_values(by = 'stop', ascending = False))\n",
    "dataframe.plot(kind = 'barh', x = 'stop', y = 'percentage', figsize = [10,10])"
   ]
  },
  {
   "cell_type": "code",
   "execution_count": 5,
   "metadata": {},
   "outputs": [],
   "source": [
    "def plotdistribution(filename):\n",
    "    with open(filename) as handle:\n",
    "        distdict = json.loads(handle.read())\n",
    "    \n",
    "    newdict = {k: v[0] for k, v in distdict.items()}\n",
    "    df = pd.DataFrame.from_dict(newdict, orient = 'index')\n",
    "    df = df.reset_index()\n",
    "    df = df.sort_values(by = 'index', ascending = True)\n",
    "    df.plot(kind = 'bar', x = 'index', y = 0, figsize = [10,7], color='#e8612c')\n",
    "    plt.title('Passengers per hour', fontsize=10)\n",
    "    plt.xlabel('Hours', fontsize=10)\n",
    "    plt.ylabel('Passengers', fontsize=10)\n",
    "    return plt.show()"
   ]
  },
  {
   "cell_type": "code",
   "execution_count": 106,
   "metadata": {},
   "outputs": [],
   "source": [
    "def cossim(vec1,vec2):\n",
    "        sum11, sum12, sum22 = 0, 0, 0\n",
    "        for i in range(len(vec1)):\n",
    "            x = vec1[i]; y = vec2[i]\n",
    "            sum11 += x*x\n",
    "            sum22 += y*y\n",
    "            sum12 += x*y\n",
    "        return sum12/math.sqrt(sum11*sum22)"
   ]
  },
  {
   "cell_type": "code",
   "execution_count": 147,
   "metadata": {},
   "outputs": [],
   "source": [
    "def cosine_similarity(filename1, filename2):\n",
    "    with open(filename1) as handle:\n",
    "        distdict1 = json.loads(handle.read())\n",
    "    \n",
    "    with open(filename2) as handle:\n",
    "        distdict2 = json.loads(handle.read())\n",
    "        \n",
    "    newdict1 = {k: v[0] for k, v in distdict1.items()}\n",
    "    df1 = pd.DataFrame.from_dict(newdict1, orient = 'index')\n",
    "    df1 = df1.reset_index()\n",
    "    df1 = df1.sort_values(by = 'index', ascending = True)\n",
    "    df1 = df1[df1['index'] >= '06']\n",
    "    \n",
    "    newdict2 = {k: v[0] for k, v in distdict2.items()}\n",
    "    df2 = pd.DataFrame.from_dict(newdict2, orient = 'index')\n",
    "    df2 = df2.reset_index()\n",
    "    df2 = df2.sort_values(by = 'index', ascending = True)\n",
    "    df2 = df2[df2['index'] >= '06']\n",
    "\n",
    "    return cossim(df1[0].tolist(), df2[0].tolist())\n"
   ]
  },
  {
   "cell_type": "code",
   "execution_count": 169,
   "metadata": {},
   "outputs": [
    {
     "data": {
      "text/plain": [
       "0.9946451776456643"
      ]
     },
     "execution_count": 169,
     "metadata": {},
     "output_type": "execute_result"
    }
   ],
   "source": [
    "cosine_similarity('../Data/dicts/d_za.json', '../Data/dicts/d_zo.json')"
   ]
  },
  {
   "cell_type": "code",
   "execution_count": null,
   "metadata": {},
   "outputs": [],
   "source": []
  }
 ],
 "metadata": {
  "kernelspec": {
   "display_name": "Python 3",
   "language": "python",
   "name": "python3"
  },
  "language_info": {
   "codemirror_mode": {
    "name": "ipython",
    "version": 3
   },
   "file_extension": ".py",
   "mimetype": "text/x-python",
   "name": "python",
   "nbconvert_exporter": "python",
   "pygments_lexer": "ipython3",
   "version": "3.6.7"
  }
 },
 "nbformat": 4,
 "nbformat_minor": 2
}
