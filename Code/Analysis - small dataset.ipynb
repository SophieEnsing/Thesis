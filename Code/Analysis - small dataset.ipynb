{
 "cells": [
  {
   "cell_type": "code",
   "execution_count": null,
   "metadata": {},
   "outputs": [],
   "source": [
    "import pandas as pd\n",
    "\n",
    "df = pd.read_excel(\"GVB/Rit.xlsx\", sheet_name=\"rit_hb\")\n",
    "df"
   ]
  },
  {
   "cell_type": "code",
   "execution_count": null,
   "metadata": {},
   "outputs": [],
   "source": [
    "df = df[df['VertrekHalteNaam'] != 'Overig']\n",
    "df = df[df['AankomstHalteNaam'] != 'Overig']\n",
    "df = df.dropna()\n",
    "df"
   ]
  },
  {
   "cell_type": "code",
   "execution_count": 53,
   "metadata": {},
   "outputs": [
    {
     "name": "stdout",
     "output_type": "stream",
     "text": [
      "{'WPP'}\n",
      "{'Centraal Station'}\n"
     ]
    }
   ],
   "source": [
    "dfWeesperplein = df[df['VertrekHalteNaam'] == 'Weesperplein']\n",
    "dfWeesperpleinCentraal = dfWeesperplein[dfWeesperplein['AankomstHalteNaam'] == 'Centraal Station']\n",
    "Vertrek = dfWeesperpleinCentraal['VertrekHalteCode'].tolist()\n",
    "Aankomst = dfWeesperpleinCentraal['AankomstHalteNaam'].tolist()\n",
    "print(set(Vertrek))\n",
    "print(set(Aankomst))"
   ]
  },
  {
   "cell_type": "code",
   "execution_count": 67,
   "metadata": {},
   "outputs": [],
   "source": [
    "dflatex = dfWeesperpleinCentraal[['Datum', 'UurgroepOmschrijving (van vertrek)', 'VertrekHalteCode',\n",
    "       'VertrekHalteNaam','AankomstHalteCode', 'AankomstHalteNaam', 'AantalRitten']].head(5)"
   ]
  },
  {
   "cell_type": "code",
   "execution_count": null,
   "metadata": {},
   "outputs": [],
   "source": [
    "dflatex.to_a"
   ]
  }
 ],
 "metadata": {
  "kernelspec": {
   "display_name": "Python 3",
   "language": "python",
   "name": "python3"
  },
  "language_info": {
   "codemirror_mode": {
    "name": "ipython",
    "version": 3
   },
   "file_extension": ".py",
   "mimetype": "text/x-python",
   "name": "python",
   "nbconvert_exporter": "python",
   "pygments_lexer": "ipython3",
   "version": "3.6.5"
  }
 },
 "nbformat": 4,
 "nbformat_minor": 2
}
